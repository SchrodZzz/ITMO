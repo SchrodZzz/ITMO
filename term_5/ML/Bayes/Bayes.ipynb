{
  "nbformat": 4,
  "nbformat_minor": 0,
  "metadata": {
    "colab": {
      "name": "Bayes.ipynb",
      "provenance": [],
      "toc_visible": true
    },
    "kernelspec": {
      "name": "python3",
      "display_name": "Python 3"
    }
  },
  "cells": [
    {
      "cell_type": "markdown",
      "metadata": {
        "id": "zdPdr6KAXmuC"
      },
      "source": [
        "## Code"
      ]
    },
    {
      "cell_type": "markdown",
      "metadata": {
        "id": "oEG73kRGXqZN"
      },
      "source": [
        "### Libs"
      ]
    },
    {
      "cell_type": "code",
      "metadata": {
        "id": "SlBZPEiYXuQ2"
      },
      "source": [
        "import os\n",
        "from zipfile import ZipFile\n",
        "from os.path import isfile, join\n",
        "import math\n",
        "import numpy as np\n",
        "import pandas as pd\n",
        "import sklearn as sk\n",
        "import matplotlib.pyplot as plt\n",
        "import sklearn.metrics as skmetrics\n",
        "from sklearn.base import BaseEstimator\n",
        "from sklearn.model_selection import GridSearchCV\n",
        "from sklearn.model_selection import cross_validate\n",
        "from sklearn.feature_extraction.text import CountVectorizer\n",
        "from sklearn.metrics import make_scorer, accuracy_score, f1_score, roc_curve, confusion_matrix"
      ],
      "execution_count": 255,
      "outputs": []
    },
    {
      "cell_type": "markdown",
      "metadata": {
        "id": "dD7KRrjWcrzf"
      },
      "source": [
        "### Bayes class"
      ]
    },
    {
      "cell_type": "code",
      "metadata": {
        "id": "8x5NZVO_cUsd"
      },
      "source": [
        "class Bayes(BaseEstimator):\n",
        "    def __init__(self, alpha=1, lambdas=[1, 1]):\n",
        "        cnt = len(lambdas)\n",
        "        self.alpha = alpha\n",
        "        self.lambdas = lambdas\n",
        "        self.classes_cnt = cnt\n",
        "        \n",
        "    def fit(self, X, y):\n",
        "        self.labels = np.unique(y)\n",
        "        self.total_counts = np.sum(X, axis=0)\n",
        "        self.label_probas = np.zeros(self.labels.shape[0])\n",
        "        self.word_probas = np.zeros((self.labels.shape[0], self.total_counts.shape[0]))\n",
        "\n",
        "        for label in self.labels:\n",
        "            self.word_probas[label] = np.sum(X[y == label], axis=0) + self.alpha\n",
        "            self.word_probas[label] /= self.alpha * X.shape[1] + np.sum(X[y == label])\n",
        "            self.label_probas[label] = float(y[y == label].shape[0]) / y.shape[0]\n",
        "\n",
        "    def predict_raw(self, X):\n",
        "        label_probas = np.zeros((X.shape[0], self.labels.shape[0]))\n",
        "        self.labels_weights = np.ones((self.labels.shape[0],)) if self.lambdas is None else self.lambdas\n",
        "\n",
        "        for i in np.arange(0, X.shape[0]):\n",
        "            for label in self.labels:\n",
        "                label_probas[i][label] = np.log(self.labels_weights[label] * self.label_probas[label]) \\\n",
        "                + np.sum(np.log(self.word_probas[label][X[i] != 0]))\n",
        "\n",
        "        return label_probas\n",
        "\n",
        "    def predict_proba(self, X):\n",
        "        label_log_probas = self.predict_raw(X)\n",
        "\n",
        "        for i in np.arange(0, X.shape[0]):\n",
        "            label_log_probas[i] = [\n",
        "                1 / (1 + np.exp(label_log_probas[i][1] - label_log_probas[i][0])),\n",
        "                1 / (1 + np.exp(label_log_probas[i][0] - label_log_probas[i][1]))\n",
        "            ]\n",
        "\n",
        "        return label_log_probas\n",
        "\n",
        "    def predict(self, X):\n",
        "        return np.argmax(self.predict_raw(X), axis=1)"
      ],
      "execution_count": 256,
      "outputs": []
    },
    {
      "cell_type": "markdown",
      "metadata": {
        "id": "O6CvYX4Uc7Md"
      },
      "source": [
        "### Data Process"
      ]
    },
    {
      "cell_type": "code",
      "metadata": {
        "id": "GtfMBuFudHlz"
      },
      "source": [
        "def getDatasetPartName(n):\n",
        "    return 'messages/part' + str(n)"
      ],
      "execution_count": 257,
      "outputs": []
    },
    {
      "cell_type": "code",
      "metadata": {
        "id": "IM3z0zNViPmF",
        "outputId": "17322f7e-35d7-4298-9721-bd4aa29b80b9",
        "colab": {
          "base_uri": "https://localhost:8080/"
        }
      },
      "source": [
        "with ZipFile('messages.zip', 'r') as zip:\n",
        "  zip.extractall()\n",
        "  print('ok')"
      ],
      "execution_count": 258,
      "outputs": [
        {
          "output_type": "stream",
          "text": [
            "ok\n"
          ],
          "name": "stdout"
        }
      ]
    },
    {
      "cell_type": "code",
      "metadata": {
        "id": "TiDs2fRlc8_Q"
      },
      "source": [
        "messages = []\n",
        "for i in range(10):\n",
        "    for cur_file in os.listdir(getDatasetPartName(i + 1)):\n",
        "        message_file = open(getDatasetPartName(i + 1) + \"/\" + cur_file, \"r\")\n",
        "        subject = message_file.readline()[9:-1]\n",
        "        message_file.readline()\n",
        "        text = message_file.readline()[:-1]\n",
        "        is_spam = 1 if 'spmsg' in cur_file else 0\n",
        "\n",
        "        messages.append([subject, text, is_spam])"
      ],
      "execution_count": 259,
      "outputs": []
    },
    {
      "cell_type": "code",
      "metadata": {
        "id": "MKACJ6ludXWP"
      },
      "source": [
        "messages = pd.DataFrame(messages, columns=['subject', 'text', 'spam'])\n",
        "vectorizer = CountVectorizer(ngram_range=(1, 1))\n",
        "X = vectorizer.fit_transform(messages['subject'] + ' ' + messages['text']).toarray()\n",
        "y = messages['spam']"
      ],
      "execution_count": 260,
      "outputs": []
    },
    {
      "cell_type": "markdown",
      "metadata": {
        "id": "E2gHql0Re0mb"
      },
      "source": [
        "### Model Scoring"
      ]
    },
    {
      "cell_type": "code",
      "metadata": {
        "id": "1PP_i0p7e0JK"
      },
      "source": [
        "scoring = { 'accuracy': make_scorer(accuracy_score),'f1_score': make_scorer(f1_score)}"
      ],
      "execution_count": 261,
      "outputs": []
    },
    {
      "cell_type": "code",
      "metadata": {
        "id": "qkyNJ4OEe7GX",
        "outputId": "9d174db2-3a94-466b-c232-3d6db62b6277",
        "colab": {
          "base_uri": "https://localhost:8080/",
          "height": 313
        }
      },
      "source": [
        "spam_classifier = Bayes()\n",
        "spam_classifier.fit(X, y)\n",
        "y_pred_proba = spam_classifier.predict_proba(X)\n",
        "fpr, tpr, thresholds = roc_curve(y, y_pred_proba[:, 1])\n",
        "plt.plot(fpr, tpr, color='purple', label='ROC val')\n",
        "plt.plot([0, 1], [0, 1], color='pink', linestyle='--')\n",
        "plt.xlabel('FPR')\n",
        "plt.ylabel('TPR')\n",
        "plt.show()"
      ],
      "execution_count": 262,
      "outputs": [
        {
          "output_type": "stream",
          "text": [
            "/usr/local/lib/python3.6/dist-packages/ipykernel_launcher.py:34: RuntimeWarning: overflow encountered in exp\n",
            "/usr/local/lib/python3.6/dist-packages/ipykernel_launcher.py:35: RuntimeWarning: overflow encountered in exp\n"
          ],
          "name": "stderr"
        },
        {
          "output_type": "display_data",
          "data": {
            "image/png": "[encoded data removed]",
            "text/plain": [
              "<Figure size 432x288 with 1 Axes>"
            ]
          },
          "metadata": {
            "tags": [],
            "needs_background": "light"
          }
        }
      ]
    },
    {
      "cell_type": "markdown",
      "metadata": {
        "id": "X9mWve4BfCKq"
      },
      "source": [
        "### Optimal lamda detection"
      ]
    },
    {
      "cell_type": "code",
      "metadata": {
        "id": "GO24ySXjfBm9"
      },
      "source": [
        "def class_accuracy(y, y_pred, label):\n",
        "    y_labels = y[y == label]\n",
        "    y_pred_labels = y_pred[y == label]\n",
        "    return float(np.sum(y_labels == y_pred_labels)) / y_labels.shape[0]"
      ],
      "execution_count": 263,
      "outputs": []
    },
    {
      "cell_type": "code",
      "metadata": {
        "id": "8U4Ly_wufGx4",
        "outputId": "935afeb8-4592-497b-af6d-ab573b13dad7",
        "colab": {
          "base_uri": "https://localhost:8080/"
        }
      },
      "source": [
        "f1_scores = []\n",
        "ok_accuracy = []\n",
        "spam_accuracy = []\n",
        "power = 0\n",
        "fp = -1\n",
        "while fp != 0:\n",
        "    spam_classifier = Bayes(lambdas=[10 ** power, 1])\n",
        "    spam_classifier.fit(X, y)\n",
        "\n",
        "    y_pred = spam_classifier.predict(X)\n",
        "    tn, fp, fn, tp = confusion_matrix(y, y_pred).ravel()\n",
        "    print(\"%2d: TN = %3d, FP = %2d, FN = %2d, TP = %3d\" % (power, tn, fp, fn, tp))\n",
        "    f1_scores.append(f1_score(y, y_pred))\n",
        "    ok_accuracy.append(class_accuracy(y, y_pred, 0))\n",
        "    spam_accuracy.append(class_accuracy(y, y_pred, 1))\n",
        "    power += 1"
      ],
      "execution_count": 264,
      "outputs": [
        {
          "output_type": "stream",
          "text": [
            " 0: TN = 596, FP = 14, FN =  3, TP = 477\n",
            " 1: TN = 599, FP = 11, FN =  3, TP = 477\n",
            " 2: TN = 601, FP =  9, FN =  3, TP = 477\n",
            " 3: TN = 604, FP =  6, FN =  4, TP = 476\n",
            " 4: TN = 604, FP =  6, FN =  5, TP = 475\n",
            " 5: TN = 605, FP =  5, FN =  6, TP = 474\n",
            " 6: TN = 607, FP =  3, FN = 11, TP = 469\n",
            " 7: TN = 609, FP =  1, FN = 14, TP = 466\n",
            " 8: TN = 609, FP =  1, FN = 19, TP = 461\n",
            " 9: TN = 609, FP =  1, FN = 34, TP = 446\n",
            "10: TN = 609, FP =  1, FN = 41, TP = 439\n",
            "11: TN = 609, FP =  1, FN = 52, TP = 428\n",
            "12: TN = 609, FP =  1, FN = 55, TP = 425\n",
            "13: TN = 609, FP =  1, FN = 57, TP = 423\n",
            "14: TN = 609, FP =  1, FN = 63, TP = 417\n",
            "15: TN = 609, FP =  1, FN = 73, TP = 407\n",
            "16: TN = 609, FP =  1, FN = 80, TP = 400\n",
            "17: TN = 609, FP =  1, FN = 88, TP = 392\n",
            "18: TN = 609, FP =  1, FN = 99, TP = 381\n",
            "19: TN = 610, FP =  0, FN = 107, TP = 373\n"
          ],
          "name": "stdout"
        }
      ]
    },
    {
      "cell_type": "markdown",
      "metadata": {
        "id": "lMxOSaYRXn7B"
      },
      "source": [
        "## Results"
      ]
    },
    {
      "cell_type": "code",
      "metadata": {
        "id": "7C3gy3FxfJO8",
        "outputId": "8c1bd7c6-5d2c-4616-a5b8-ecdfa6e807c1",
        "colab": {
          "base_uri": "https://localhost:8080/",
          "height": 279
        }
      },
      "source": [
        "plt.plot(f1_scores, 'g-')\n",
        "plt.xlabel('lambda (10eX)')\n",
        "plt.ylabel('f1 score')\n",
        "plt.show()"
      ],
      "execution_count": 265,
      "outputs": [
        {
          "output_type": "display_data",
          "data": {
            "image/png": "[encoded data removed]",
            "text/plain": [
              "<Figure size 432x288 with 1 Axes>"
            ]
          },
          "metadata": {
            "tags": [],
            "needs_background": "light"
          }
        }
      ]
    },
    {
      "cell_type": "code",
      "metadata": {
        "id": "Jckw-CM7fNfr",
        "outputId": "4e1c7e7a-4418-4f54-ba00-24934b0e271b",
        "colab": {
          "base_uri": "https://localhost:8080/",
          "height": 279
        }
      },
      "source": [
        "plt.plot(ok_accuracy, 'b-', spam_accuracy, 'y-')\n",
        "plt.xlabel('lambda 10e')\n",
        "plt.ylabel('Accuracy')\n",
        "plt.legend(['Ok', 'Spam'])\n",
        "plt.show()"
      ],
      "execution_count": 266,
      "outputs": [
        {
          "output_type": "display_data",
          "data": {
            "image/png": "[encoded data removed]",
            "text/plain": [
              "<Figure size 432x288 with 1 Axes>"
            ]
          },
          "metadata": {
            "tags": [],
            "needs_background": "light"
          }
        }
      ]
    }
  ]
}