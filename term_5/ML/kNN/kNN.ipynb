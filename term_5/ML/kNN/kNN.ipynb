{
 "cells": [
  {
   "cell_type": "code",
   "execution_count": 22,
   "metadata": {
    "collapsed": true
   },
   "outputs": [],
   "source": [
    "# https://www.openml.org/d/1508 - dataset\n",
    "import numpy as np\n",
    "import pandas as pd\n",
    "from tqdm import tqdm\n",
    "import matplotlib.pyplot as plt\n",
    "import processer"
   ]
  },
  {
   "cell_type": "code",
   "execution_count": 23,
   "outputs": [
    {
     "data": {
      "text/plain": "     V1    V2    V3    V4    V5  Class\n0  0.00  0.00  0.00  0.00  0.00      4\n1  0.08  0.08  0.10  0.24  0.90      1\n2  0.06  0.06  0.05  0.25  0.33      2\n3  0.10  0.10  0.15  0.65  0.30      3\n4  0.08  0.08  0.08  0.98  0.24      2",
      "text/html": "<div>\n<style scoped>\n    .dataframe tbody tr th:only-of-type {\n        vertical-align: middle;\n    }\n\n    .dataframe tbody tr th {\n        vertical-align: top;\n    }\n\n    .dataframe thead th {\n        text-align: right;\n    }\n</style>\n<table border=\"1\" class=\"dataframe\">\n  <thead>\n    <tr style=\"text-align: right;\">\n      <th></th>\n      <th>V1</th>\n      <th>V2</th>\n      <th>V3</th>\n      <th>V4</th>\n      <th>V5</th>\n      <th>Class</th>\n    </tr>\n  </thead>\n  <tbody>\n    <tr>\n      <th>0</th>\n      <td>0.00</td>\n      <td>0.00</td>\n      <td>0.00</td>\n      <td>0.00</td>\n      <td>0.00</td>\n      <td>4</td>\n    </tr>\n    <tr>\n      <th>1</th>\n      <td>0.08</td>\n      <td>0.08</td>\n      <td>0.10</td>\n      <td>0.24</td>\n      <td>0.90</td>\n      <td>1</td>\n    </tr>\n    <tr>\n      <th>2</th>\n      <td>0.06</td>\n      <td>0.06</td>\n      <td>0.05</td>\n      <td>0.25</td>\n      <td>0.33</td>\n      <td>2</td>\n    </tr>\n    <tr>\n      <th>3</th>\n      <td>0.10</td>\n      <td>0.10</td>\n      <td>0.15</td>\n      <td>0.65</td>\n      <td>0.30</td>\n      <td>3</td>\n    </tr>\n    <tr>\n      <th>4</th>\n      <td>0.08</td>\n      <td>0.08</td>\n      <td>0.08</td>\n      <td>0.98</td>\n      <td>0.24</td>\n      <td>2</td>\n    </tr>\n  </tbody>\n</table>\n</div>"
     },
     "execution_count": 23,
     "metadata": {},
     "output_type": "execute_result"
    }
   ],
   "source": [
    "data = pd.read_csv('dataset.csv')\n",
    "data.head()"
   ],
   "metadata": {
    "collapsed": false,
    "pycharm": {
     "name": "#%%\n"
    }
   }
  },
  {
   "cell_type": "code",
   "execution_count": 24,
   "outputs": [
    {
     "data": {
      "text/plain": "     V1    V2    V3    V4    V5\n0  0.00  0.00  0.00  0.00  0.00\n1  0.08  0.08  0.10  0.24  0.90\n2  0.06  0.06  0.05  0.25  0.33\n3  0.10  0.10  0.15  0.65  0.30\n4  0.08  0.08  0.08  0.98  0.24",
      "text/html": "<div>\n<style scoped>\n    .dataframe tbody tr th:only-of-type {\n        vertical-align: middle;\n    }\n\n    .dataframe tbody tr th {\n        vertical-align: top;\n    }\n\n    .dataframe thead th {\n        text-align: right;\n    }\n</style>\n<table border=\"1\" class=\"dataframe\">\n  <thead>\n    <tr style=\"text-align: right;\">\n      <th></th>\n      <th>V1</th>\n      <th>V2</th>\n      <th>V3</th>\n      <th>V4</th>\n      <th>V5</th>\n    </tr>\n  </thead>\n  <tbody>\n    <tr>\n      <th>0</th>\n      <td>0.00</td>\n      <td>0.00</td>\n      <td>0.00</td>\n      <td>0.00</td>\n      <td>0.00</td>\n    </tr>\n    <tr>\n      <th>1</th>\n      <td>0.08</td>\n      <td>0.08</td>\n      <td>0.10</td>\n      <td>0.24</td>\n      <td>0.90</td>\n    </tr>\n    <tr>\n      <th>2</th>\n      <td>0.06</td>\n      <td>0.06</td>\n      <td>0.05</td>\n      <td>0.25</td>\n      <td>0.33</td>\n    </tr>\n    <tr>\n      <th>3</th>\n      <td>0.10</td>\n      <td>0.10</td>\n      <td>0.15</td>\n      <td>0.65</td>\n      <td>0.30</td>\n    </tr>\n    <tr>\n      <th>4</th>\n      <td>0.08</td>\n      <td>0.08</td>\n      <td>0.08</td>\n      <td>0.98</td>\n      <td>0.24</td>\n    </tr>\n  </tbody>\n</table>\n</div>"
     },
     "execution_count": 24,
     "metadata": {},
     "output_type": "execute_result"
    }
   ],
   "source": [
    "X = data[data.columns[:-1]]\n",
    "X.head()"
   ],
   "metadata": {
    "collapsed": false,
    "pycharm": {
     "name": "#%%\n"
    }
   }
  },
  {
   "cell_type": "code",
   "execution_count": 25,
   "outputs": [
    {
     "data": {
      "text/plain": "{1: 102, 2: 129, 3: 122, 4: 24, 5: 26}"
     },
     "execution_count": 25,
     "metadata": {},
     "output_type": "execute_result"
    }
   ],
   "source": [
    "cls, cnt = np.unique(data.Class, return_counts=True)\n",
    "dict(zip(cls, cnt))"
   ],
   "metadata": {
    "collapsed": false,
    "pycharm": {
     "name": "#%%\n"
    }
   }
  },
  {
   "cell_type": "code",
   "execution_count": 26,
   "outputs": [
    {
     "data": {
      "text/plain": "0    3\n1    0\n2    1\n3    2\n4    1\nName: Class, dtype: int64"
     },
     "execution_count": 26,
     "metadata": {},
     "output_type": "execute_result"
    }
   ],
   "source": [
    "y = data.Class.apply(lambda status: np.where(cls == status)[0][0])\n",
    "y.head()"
   ],
   "metadata": {
    "collapsed": false,
    "pycharm": {
     "name": "#%%\n"
    }
   }
  },
  {
   "cell_type": "code",
   "execution_count": 27,
   "outputs": [
    {
     "data": {
      "text/plain": "V1    0.353141\nV2    0.355940\nV3    0.457655\nV4    0.431342\nV5    0.456360\ndtype: float64"
     },
     "execution_count": 27,
     "metadata": {},
     "output_type": "execute_result"
    }
   ],
   "source": [
    "means = X.mean()\n",
    "means"
   ],
   "metadata": {
    "collapsed": false,
    "pycharm": {
     "name": "#%%\n"
    }
   }
  },
  {
   "cell_type": "code",
   "execution_count": 28,
   "outputs": [
    {
     "data": {
      "text/plain": "V1    0.212018\nV2    0.215531\nV3    0.246684\nV4    0.257545\nV5    0.266775\ndtype: float64"
     },
     "execution_count": 28,
     "metadata": {},
     "output_type": "execute_result"
    }
   ],
   "source": [
    "stds = X.std()\n",
    "stds"
   ],
   "metadata": {
    "collapsed": false,
    "pycharm": {
     "name": "#%%\n"
    }
   }
  },
  {
   "cell_type": "code",
   "execution_count": 29,
   "outputs": [
    {
     "data": {
      "text/plain": "         V1        V2        V3        V4        V5\n0 -1.665623 -1.651461 -1.855232 -1.674824 -1.710652\n1 -1.288296 -1.280284 -1.449854 -0.742948  1.662973\n2 -1.382628 -1.373078 -1.652543 -0.704120 -0.473656\n3 -1.193964 -1.187490 -1.247165  0.849007 -0.586110\n4 -1.288296 -1.280284 -1.530930  2.130337 -0.811018",
      "text/html": "<div>\n<style scoped>\n    .dataframe tbody tr th:only-of-type {\n        vertical-align: middle;\n    }\n\n    .dataframe tbody tr th {\n        vertical-align: top;\n    }\n\n    .dataframe thead th {\n        text-align: right;\n    }\n</style>\n<table border=\"1\" class=\"dataframe\">\n  <thead>\n    <tr style=\"text-align: right;\">\n      <th></th>\n      <th>V1</th>\n      <th>V2</th>\n      <th>V3</th>\n      <th>V4</th>\n      <th>V5</th>\n    </tr>\n  </thead>\n  <tbody>\n    <tr>\n      <th>0</th>\n      <td>-1.665623</td>\n      <td>-1.651461</td>\n      <td>-1.855232</td>\n      <td>-1.674824</td>\n      <td>-1.710652</td>\n    </tr>\n    <tr>\n      <th>1</th>\n      <td>-1.288296</td>\n      <td>-1.280284</td>\n      <td>-1.449854</td>\n      <td>-0.742948</td>\n      <td>1.662973</td>\n    </tr>\n    <tr>\n      <th>2</th>\n      <td>-1.382628</td>\n      <td>-1.373078</td>\n      <td>-1.652543</td>\n      <td>-0.704120</td>\n      <td>-0.473656</td>\n    </tr>\n    <tr>\n      <th>3</th>\n      <td>-1.193964</td>\n      <td>-1.187490</td>\n      <td>-1.247165</td>\n      <td>0.849007</td>\n      <td>-0.586110</td>\n    </tr>\n    <tr>\n      <th>4</th>\n      <td>-1.288296</td>\n      <td>-1.280284</td>\n      <td>-1.530930</td>\n      <td>2.130337</td>\n      <td>-0.811018</td>\n    </tr>\n  </tbody>\n</table>\n</div>"
     },
     "execution_count": 29,
     "metadata": {},
     "output_type": "execute_result"
    }
   ],
   "source": [
    "normX = pd.DataFrame(dict([(column, (X.loc[:, column] - means[column]) / stds[column])\n",
    "                            for column in X.columns]))\n",
    "X = normX\n",
    "X.head()"
   ],
   "metadata": {
    "collapsed": false,
    "pycharm": {
     "name": "#%%\n"
    }
   }
  },
  {
   "cell_type": "code",
   "execution_count": 30,
   "outputs": [
    {
     "data": {
      "text/plain": "V1   -2.936719e-16\nV2   -1.645775e-15\nV3    7.834924e-16\nV4   -6.545633e-16\nV5   -4.049697e-17\ndtype: float64"
     },
     "execution_count": 30,
     "metadata": {},
     "output_type": "execute_result"
    }
   ],
   "source": [
    "X.mean()"
   ],
   "metadata": {
    "collapsed": false,
    "pycharm": {
     "name": "#%%\n"
    }
   }
  },
  {
   "cell_type": "code",
   "execution_count": 31,
   "outputs": [
    {
     "data": {
      "text/plain": "V1    1.0\nV2    1.0\nV3    1.0\nV4    1.0\nV5    1.0\ndtype: float64"
     },
     "execution_count": 31,
     "metadata": {},
     "output_type": "execute_result"
    }
   ],
   "source": [
    "X.std()"
   ],
   "metadata": {
    "collapsed": false,
    "pycharm": {
     "name": "#%%\n"
    }
   }
  },
  {
   "cell_type": "code",
   "execution_count": 32,
   "outputs": [],
   "source": [
    "def getClass(kt, dt, wt, wp, X, y, argument):\n",
    "    weights = processer.getClassW(kt, dt, wt, wp, X, y, argument)\n",
    "    return weights.index(max(weights))"
   ],
   "metadata": {
    "collapsed": false,
    "pycharm": {
     "name": "#%%\n"
    }
   }
  },
  {
   "cell_type": "code",
   "execution_count": 33,
   "outputs": [],
   "source": [
    "def getConfusionMatrix(kt, dt, wt, wp):\n",
    "    classesCnt = len(y.unique())\n",
    "    res = [[0 for _ in range(classesCnt)] for _ in range(classesCnt)]\n",
    "    for i in range(data.shape[0]):\n",
    "        expClass = y[i]\n",
    "        argument = X.loc[i]\n",
    "        trainX = X.drop([i])\n",
    "        trainy = y.drop([i])\n",
    "        predictedClass = getClass(kt, dt, wt, wp, trainX.values, trainy, argument)\n",
    "        res[expClass][predictedClass] += 1\n",
    "    return res"
   ],
   "metadata": {
    "collapsed": false,
    "pycharm": {
     "name": "#%%\n"
    }
   }
  },
  {
   "cell_type": "code",
   "execution_count": 34,
   "outputs": [],
   "source": [
    "def getFscore(cm):\n",
    "    def getPrecisionRecall(idx):\n",
    "        tp = cm[idx][idx]\n",
    "        tp_fp = sum([cm[j][idx] for j in range(len(cm))])\n",
    "        tp_fn = sum(cm[idx])\n",
    "        precision = 0 if tp_fp == 0 else tp / tp_fp\n",
    "        recall = 0 if tp_fn == 0 else tp / tp_fn\n",
    "        return precision, recall\n",
    "\n",
    "\n",
    "    def calcFscore(precision, recall):\n",
    "        if precision + recall == 0:\n",
    "            return 0\n",
    "        else:\n",
    "            return 2 * precision * recall / (precision + recall)\n",
    "\n",
    "\n",
    "    totalCnt = sum([sum(cm[i]) for i in range(len(cm))])\n",
    "    microPrecision = sum([getPrecisionRecall(i)[0] * sum(cm[i]) for i in range(len(cm))]) / totalCnt\n",
    "    microRecall = sum([getPrecisionRecall(i)[1] * sum(cm[i]) for i in range(len(cm))]) / totalCnt\n",
    "    return calcFscore(microPrecision, microRecall)"
   ],
   "metadata": {
    "collapsed": false,
    "pycharm": {
     "name": "#%%\n"
    }
   }
  },
  {
   "cell_type": "code",
   "execution_count": 35,
   "outputs": [
    {
     "data": {
      "text/plain": "4.232354557741518"
     },
     "execution_count": 35,
     "metadata": {},
     "output_type": "execute_result"
    }
   ],
   "source": [
    "distances = []\n",
    "for i in range(X.shape[0]):\n",
    "    for j in range(X.shape[0]):\n",
    "        first = X.loc[i].values\n",
    "        second = X.loc[j].values\n",
    "        distances.append(processer.getDist(\"euclidean\", first, second))\n",
    "distances.sort()\n",
    "total_dists = len(distances)\n",
    "distances[int(0.90 * total_dists)]"
   ],
   "metadata": {
    "collapsed": false,
    "pycharm": {
     "name": "#%%\n"
    }
   }
  },
  {
   "cell_type": "code",
   "execution_count": 36,
   "outputs": [],
   "source": [
    "def genParams():\n",
    "    for kt in processer.kernel:\n",
    "        for dt in processer.distances:\n",
    "            for wt in [\"fixed\", \"variable\"]:\n",
    "                if wt == \"fixed\":\n",
    "                    wps = np.linspace(0.1, 4, 10)\n",
    "                else:\n",
    "                    wps = range(1, 101, 10)\n",
    "                for wp in wps:\n",
    "                    yield (kt, dt, wt, wp)"
   ],
   "metadata": {
    "collapsed": false,
    "pycharm": {
     "name": "#%%\n"
    }
   }
  },
  {
   "cell_type": "code",
   "execution_count": 37,
   "outputs": [
    {
     "name": "stderr",
     "output_type": "stream",
     "text": [
      "100%|██████████| 600/600 [18:06<00:00,  1.81s/it]\n"
     ]
    }
   ],
   "source": [
    "maxFscore = -1\n",
    "bkt = None\n",
    "bdt = None\n",
    "bwt = None\n",
    "bwp = None\n",
    "for kt, dt, wt, wp in tqdm(list(genParams())):\n",
    "    ConfusionMatrix = getConfusionMatrix(kt, dt, wt, wp)\n",
    "    curFscore = getFscore(ConfusionMatrix)\n",
    "    if curFscore > maxFscore:\n",
    "        maxFscore = curFscore\n",
    "        bkt = kt\n",
    "        bdt = dt\n",
    "        bwt = wt\n",
    "        bwp = wp"
   ],
   "metadata": {
    "collapsed": false,
    "pycharm": {
     "name": "#%%\n"
    }
   }
  },
  {
   "cell_type": "code",
   "execution_count": 38,
   "outputs": [
    {
     "data": {
      "text/plain": "(0.8557146559202522, 'triweight', 'manhattan', 'variable', 41)"
     },
     "execution_count": 38,
     "metadata": {},
     "output_type": "execute_result"
    }
   ],
   "source": [
    "maxFscore, bkt, bdt, bwt, bwp"
   ],
   "metadata": {
    "collapsed": false,
    "pycharm": {
     "name": "#%%\n"
    }
   }
  },
  {
   "cell_type": "code",
   "execution_count": 39,
   "outputs": [
    {
     "name": "stderr",
     "output_type": "stream",
     "text": [
      "100%|██████████| 80/80 [02:16<00:00,  1.70s/it]\n"
     ]
    }
   ],
   "source": [
    "fScoresFixed = []\n",
    "hFixed = np.linspace(0.1, 5, 80)\n",
    "for h in tqdm(hFixed):\n",
    "    ConfusionMatrix = getConfusionMatrix(bkt, bdt, \"fixed\", h)\n",
    "    curFscore = getFscore(ConfusionMatrix)\n",
    "    fScoresFixed.append(curFscore)"
   ],
   "metadata": {
    "collapsed": false,
    "pycharm": {
     "name": "#%%\n"
    }
   }
  },
  {
   "cell_type": "code",
   "execution_count": 40,
   "outputs": [
    {
     "name": "stderr",
     "output_type": "stream",
     "text": [
      "100%|██████████| 100/100 [02:55<00:00,  1.76s/it]\n"
     ]
    }
   ],
   "source": [
    "fScoresVariable = []\n",
    "kVariable = range(1, 201, 2)\n",
    "for k in tqdm(kVariable):\n",
    "    ConfusionMatrix = getConfusionMatrix(bkt, bdt, \"variable\", k)\n",
    "    cur_f_score = getFscore(ConfusionMatrix)\n",
    "    fScoresVariable.append(cur_f_score)"
   ],
   "metadata": {
    "collapsed": false,
    "pycharm": {
     "name": "#%%\n"
    }
   }
  },
  {
   "cell_type": "code",
   "execution_count": 41,
   "outputs": [
    {
     "data": {
      "text/plain": "[<matplotlib.lines.Line2D at 0x7faba88d2978>]"
     },
     "execution_count": 41,
     "metadata": {},
     "output_type": "execute_result"
    },
    {
     "data": {
      "text/plain": "<Figure size 432x288 with 1 Axes>",
      "image/png": "[encoded data removed]"
     },
     "metadata": {
      "needs_background": "light"
     },
     "output_type": "display_data"
    }
   ],
   "source": [
    "plt.plot(hFixed, fScoresFixed)"
   ],
   "metadata": {
    "collapsed": false,
    "pycharm": {
     "name": "#%%\n"
    }
   }
  },
  {
   "cell_type": "code",
   "execution_count": 42,
   "outputs": [
    {
     "data": {
      "text/plain": "[<matplotlib.lines.Line2D at 0x7faba8ae7208>]"
     },
     "execution_count": 42,
     "metadata": {},
     "output_type": "execute_result"
    },
    {
     "data": {
      "text/plain": "<Figure size 432x288 with 1 Axes>",
      "image/png": "[encoded data removed]"
     },
     "metadata": {
      "needs_background": "light"
     },
     "output_type": "display_data"
    }
   ],
   "source": [
    "plt.plot(kVariable, fScoresVariable)"
   ],
   "metadata": {
    "collapsed": false,
    "pycharm": {
     "name": "#%%\n"
    }
   }
  }
 ],
 "metadata": {
  "kernelspec": {
   "display_name": "Python 3",
   "language": "python",
   "name": "python3"
  },
  "language_info": {
   "codemirror_mode": {
    "name": "ipython",
    "version": 2
   },
   "file_extension": ".py",
   "mimetype": "text/x-python",
   "name": "python",
   "nbconvert_exporter": "python",
   "pygments_lexer": "ipython2",
   "version": "2.7.6"
  }
 },
 "nbformat": 4,
 "nbformat_minor": 0
}