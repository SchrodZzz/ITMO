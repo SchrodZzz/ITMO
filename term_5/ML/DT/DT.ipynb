{
  "nbformat": 4,
  "nbformat_minor": 0,
  "metadata": {
    "colab": {
      "name": "DT.ipynb",
      "provenance": [],
      "toc_visible": true
    },
    "kernelspec": {
      "name": "python3",
      "display_name": "Python 3"
    }
  },
  "cells": [
    {
      "cell_type": "markdown",
      "metadata": {
        "id": "gId8oDaZMu_5"
      },
      "source": [
        "## Code"
      ]
    },
    {
      "cell_type": "markdown",
      "metadata": {
        "id": "1GK5e6DzM5qd"
      },
      "source": [
        "### Libs"
      ]
    },
    {
      "cell_type": "code",
      "metadata": {
        "id": "C7fSXpbZgFOL"
      },
      "source": [
        "shouldUnzipData = True\n",
        "combiner = lambda *cm: zip(*cm)"
      ],
      "execution_count": 13,
      "outputs": []
    },
    {
      "cell_type": "code",
      "metadata": {
        "id": "XE73BHIfM8oW"
      },
      "source": [
        "import random\n",
        "import numpy as np\n",
        "import matplotlib.pyplot as plt\n",
        "\n",
        "from tqdm import tqdm\n",
        "from pandas import read_csv\n",
        "\n",
        "if shouldUnzipData:\n",
        "  from zipfile import ZipFile"
      ],
      "execution_count": 14,
      "outputs": []
    },
    {
      "cell_type": "markdown",
      "metadata": {
        "id": "86k5oasmRisv"
      },
      "source": [
        "### Structs"
      ]
    },
    {
      "cell_type": "code",
      "metadata": {
        "id": "rz1FNQhwRoic"
      },
      "source": [
        "class Node:\n",
        "    def __init__(self):\n",
        "        self.l = None\n",
        "        self.r = None\n",
        "\n",
        "        self.y = None\n",
        "        self.f = None\n",
        "        self.b = None"
      ],
      "execution_count": 15,
      "outputs": []
    },
    {
      "cell_type": "code",
      "metadata": {
        "id": "nKq3DDNiRvsE"
      },
      "source": [
        "class DT:\n",
        "    def __init__(self, h=None):\n",
        "        self.X = None\n",
        "        self.y = None\n",
        "\n",
        "        self.root = None\n",
        "        self.h = h\n",
        "\n",
        "        self.n = None\n",
        "        self.m = None\n",
        "        self.k = None\n",
        "\n",
        "    def fit(self, X, y):\n",
        "        self.X = X\n",
        "        self.y = y\n",
        "        self.n = len(X)\n",
        "        self.m = len(X[0])\n",
        "        self.k = max(y) + 1\n",
        "        self.root = Node()\n",
        "        self.__build(self.root, range(self.n), -1, 0)\n",
        "\n",
        "    def predict(self, x, node=None):\n",
        "        if node is None:\n",
        "            node = self.root\n",
        "        if node.l is None:\n",
        "            return node.y\n",
        "        if x[node.f] < node.b:\n",
        "            return self.predict(x, node.l)\n",
        "        return self.predict(x, node.r)\n",
        "\n",
        "    def __build(self, T, objects, parent_class, d):\n",
        "        if len(objects) == 0:\n",
        "            T.y = parent_class\n",
        "            return\n",
        "        ys = [0] * self.k\n",
        "        for i in objects:\n",
        "            ys[self.y[i]] += 1\n",
        "        max_y = np.argmax(ys)\n",
        "        if ys[max_y] == len(objects) or self.h is not None and d == self.h:\n",
        "            T.y = max_y\n",
        "            return\n",
        "        best_gini = 0\n",
        "        best_T1, best_T2 = [], []\n",
        "        for f in range(self.m):\n",
        "            init_objs = sorted(objects, key=lambda obj: self.X[obj][f])\n",
        "            _T1 = []\n",
        "            _T2 = init_objs\n",
        "            l, r = [0] * self.k, [0] * self.k\n",
        "            T1 = []\n",
        "            T2 = _T2\n",
        "            b = -1e9\n",
        "            for i in init_objs:\n",
        "                r[self.y[i]] += 1\n",
        "            sum_l = 0\n",
        "            sum_r = sum([x * x for x in r])\n",
        "            cur_gini = gini(sum_l, sum_r, len(_T1), len(_T2))\n",
        "            for j in range(len(init_objs)):\n",
        "                i = init_objs[j]\n",
        "                sum_r += (r[self.y[i]] - 1) ** 2 - r[self.y[i]] ** 2\n",
        "                r[self.y[i]] -= 1\n",
        "                sum_l += (l[self.y[i]] + 1) ** 2 - l[self.y[i]] ** 2\n",
        "                l[self.y[i]] += 1\n",
        "                _T1.append(_T2[0])\n",
        "                _T2 = _T2[1:]\n",
        "                tmp = gini(sum_l, sum_r, len(_T1), len(_T2))\n",
        "                if cur_gini < tmp or \\\n",
        "                        np.isclose(cur_gini, tmp) and abs(len(_T1) - len(_T2)) < abs(len(T1) - len(T2)):\n",
        "                    cur_gini = tmp\n",
        "                    T1 = list(_T1)\n",
        "                    T2 = _T2\n",
        "                    b = (self.X[i][f] + self.X[init_objs[j + 1]][f]) / 2 if j + 1 < len(init_objs) else 1e9\n",
        "            if best_gini < cur_gini:\n",
        "                best_gini = cur_gini\n",
        "                T.f = f\n",
        "                T.b = b\n",
        "                best_T1 = T1\n",
        "                best_T2 = T2\n",
        "\n",
        "        T.l = Node()\n",
        "        self.__build(T.l, best_T1, max_y, d + 1)\n",
        "        T.r = Node()\n",
        "        self.__build(T.r, best_T2, max_y, d + 1)"
      ],
      "execution_count": 16,
      "outputs": []
    },
    {
      "cell_type": "code",
      "metadata": {
        "id": "JaP69aCWVOzq"
      },
      "source": [
        "class RF:\n",
        "    def __init__(self, has_random_objects=False, has_random_features=False):\n",
        "        self.has_random_objects = has_random_objects\n",
        "        self.has_random_features = has_random_features\n",
        "        \n",
        "        self.trees = None\n",
        "        self.k = 0\n",
        "\n",
        "    def fit(self, X, y, count_trees=10):\n",
        "        self.trees = []\n",
        "        for _ in range(count_trees):\n",
        "            tree = DT()\n",
        "            final_X, final_y = X, y\n",
        "            if self.has_random_features:\n",
        "                final_X = random_features(final_X, int(np.sqrt(len(X[0]))))\n",
        "            if self.has_random_objects:\n",
        "                final_X, final_y = random_objects(final_X, final_y, int(np.sqrt(len(X))))\n",
        "            tree.fit(final_X, final_y)\n",
        "            self.k = max(self.k, tree.k)\n",
        "            self.trees.append(tree)\n",
        "\n",
        "    def predict(self, x):\n",
        "        ys = [0] * self.k\n",
        "        for tree in self.trees:\n",
        "            ys[tree.predict(x)] += 1\n",
        "        return int(np.argmax(ys))"
      ],
      "execution_count": 17,
      "outputs": []
    },
    {
      "cell_type": "markdown",
      "metadata": {
        "id": "0Hgjnj0nV9y4"
      },
      "source": [
        "### Helpers"
      ]
    },
    {
      "cell_type": "code",
      "metadata": {
        "id": "zkd2OxosWAX2"
      },
      "source": [
        "gini = lambda sum_l, sum_r, L, R: (sum_l / L if L > 0 else 0) + (sum_r / R if R > 0 else 0)"
      ],
      "execution_count": 18,
      "outputs": []
    },
    {
      "cell_type": "code",
      "metadata": {
        "id": "a7pk3LbHWiN6"
      },
      "source": [
        "def random_objects(X, y, subset_size):\n",
        "    n = len(X)\n",
        "    new_X, new_y = [], []\n",
        "    for _ in range(subset_size):\n",
        "        i = random.randint(0, n - 1)\n",
        "        new_X.append(X[i])\n",
        "        new_y.append(y[i])\n",
        "    return new_X, new_y"
      ],
      "execution_count": 19,
      "outputs": []
    },
    {
      "cell_type": "code",
      "metadata": {
        "id": "JFbQer0TWnEI"
      },
      "source": [
        "def random_features(X, subset_size):\n",
        "    m = len(X[0])\n",
        "    indices = []\n",
        "    for _ in range(subset_size):\n",
        "        indices.append(random.randint(0, m - 1))\n",
        "    return [[x[i] for i in indices] for x in X]"
      ],
      "execution_count": 20,
      "outputs": []
    },
    {
      "cell_type": "markdown",
      "metadata": {
        "id": "6VN0INwOWzKs"
      },
      "source": [
        "### Data Process"
      ]
    },
    {
      "cell_type": "code",
      "metadata": {
        "id": "2I9FJrRkeLdX"
      },
      "source": [
        "def getDatasetPartName(n):\n",
        "    return '' + str(n).zfill(2)"
      ],
      "execution_count": 21,
      "outputs": []
    },
    {
      "cell_type": "code",
      "metadata": {
        "id": "PO_Mul_fWy4N",
        "outputId": "ee482902-b044-4bfb-d2c7-77c43c841a32",
        "colab": {
          "base_uri": "https://localhost:8080/",
          "height": 34
        }
      },
      "source": [
        "if shouldUnzipData:\n",
        "    with ZipFile('DT_csv.zip', 'r') as zip_file:\n",
        "        zip_file.extractall()\n",
        "        print('ok')\n",
        "else:\n",
        "    print('didn\\'t extract')"
      ],
      "execution_count": 22,
      "outputs": [
        {
          "output_type": "stream",
          "text": [
            "ok\n"
          ],
          "name": "stdout"
        }
      ]
    },
    {
      "cell_type": "code",
      "metadata": {
        "id": "qmxa0O4TY8_J"
      },
      "source": [
        "def read_dataset(file_name):\n",
        "    return read_csv(file_name, usecols=lambda x: x != 'y').values.tolist(), read_csv(file_name)['y'].values.tolist()\n",
        "\n",
        "\n",
        "def read_train(i):\n",
        "    return read_dataset(getDatasetPartName(i) + '_train.csv')\n",
        "\n",
        "\n",
        "def read_test(i):\n",
        "    return read_dataset(getDatasetPartName(i) + '_test.csv')"
      ],
      "execution_count": 23,
      "outputs": []
    },
    {
      "cell_type": "code",
      "metadata": {
        "id": "NoPl2snQZV-2"
      },
      "source": [
        "train_data = [read_train(i+1) for i in range(21)]\n",
        "test_data = [read_test(i+1) for i in range(21)]\n",
        "train_X_list, train_y_list = [x[0] for x in train_data], [[y - 1 for y in x[1]] for x in train_data]\n",
        "test_X_list, test_y_list = [x[0] for x in test_data], [[y - 1 for y in x[1]] for x in test_data]"
      ],
      "execution_count": 24,
      "outputs": []
    },
    {
      "cell_type": "code",
      "metadata": {
        "id": "lUuI6LT80Xbz"
      },
      "source": [
        "forest_size = 100\n",
        "datasets = np.array(range(21))\n",
        "tree_f_scores = []\n",
        "random_objects_forest_f_scores = []\n",
        "random_features_forest_f_scores = []"
      ],
      "execution_count": 25,
      "outputs": []
    },
    {
      "cell_type": "markdown",
      "metadata": {
        "id": "cBRSKXiYayVW"
      },
      "source": [
        "### Scoring Helpers"
      ]
    },
    {
      "cell_type": "code",
      "metadata": {
        "id": "AWEuS9Uwax54"
      },
      "source": [
        "def test_classifier(classifier, test_X, test_y):\n",
        "    k = max(classifier.k, max(test_y) + 1)\n",
        "    cm = [[0] * k for _ in range(k)]\n",
        "    for i in range(len(test_X)):\n",
        "        cm[test_y[i]][classifier.predict(test_X[i])] += 1\n",
        "    return f_score(cm, k)"
      ],
      "execution_count": 26,
      "outputs": []
    },
    {
      "cell_type": "code",
      "metadata": {
        "id": "1XhsGR2wa3jk"
      },
      "source": [
        "def f_score(cm, k):\n",
        "    row_sum = [sum(row) for row in cm]\n",
        "    column_sum = [sum(column) for column in combiner(*cm)]\n",
        "\n",
        "    macro_precision = [0 if column_sum[i] < 1e-6 else cm[i][i] / column_sum[i] for i in range(k)]\n",
        "    macro_recall = [0 if row_sum[i] < 1e-6 else cm[i][i] / row_sum[i] for i in range(k)]\n",
        "\n",
        "    precision_avg = weighted_average(macro_precision, row_sum)\n",
        "    recall_avg = weighted_average(macro_recall, row_sum)\n",
        "    return 0 if precision_avg < 1e-6 and recall_avg < 1e-6 else 2 * precision_avg * recall_avg / (precision_avg + recall_avg)"
      ],
      "execution_count": 27,
      "outputs": []
    },
    {
      "cell_type": "code",
      "metadata": {
        "id": "ZQioBv3ka6gg"
      },
      "source": [
        "def weighted_average(v, weights):\n",
        "    v_sum = sum(v[i] * weights[i] for i in range(len(v)))\n",
        "    w_sum = sum(weights[i] for i in range(len(v)))\n",
        "    return 0 if v_sum < 1e-6 or w_sum < 1e-6 else v_sum / w_sum"
      ],
      "execution_count": 28,
      "outputs": []
    },
    {
      "cell_type": "markdown",
      "metadata": {
        "id": "UVMwdQ4fcOzi"
      },
      "source": [
        "### Process"
      ]
    },
    {
      "cell_type": "markdown",
      "metadata": {
        "id": "5K-WKlXYcfpI"
      },
      "source": [
        "#### Tree"
      ]
    },
    {
      "cell_type": "code",
      "metadata": {
        "id": "Gpn1IFrkcQcA",
        "outputId": "ec72b63a-f7a2-4a07-8683-73c14854463e",
        "colab": {
          "base_uri": "https://localhost:8080/",
          "height": 374
        }
      },
      "source": [
        "heights = []\n",
        "for dataset_index in range(21):\n",
        "    best_h = 0\n",
        "    best_f_score = 0\n",
        "    for h in range(1, 21):\n",
        "        tree = DT(h)\n",
        "        tree.fit(train_X_list[dataset_index], train_y_list[dataset_index])\n",
        "        cur_f_score = test_classifier(tree, test_X_list[dataset_index], test_y_list[dataset_index])\n",
        "        if best_f_score < cur_f_score:\n",
        "            best_f_score = cur_f_score\n",
        "            best_h = h\n",
        "    heights.append(best_h)\n",
        "    print('dataset №%d :: best h = %d, with f score = %f' % (dataset_index + 1, best_h, best_f_score))"
      ],
      "execution_count": 29,
      "outputs": [
        {
          "output_type": "stream",
          "text": [
            "dataset №0 :: best h = 3, with f score = 0.999486\n",
            "dataset №1 :: best h = 9, with f score = 0.648926\n",
            "dataset №2 :: best h = 1, with f score = 1.000000\n",
            "dataset №3 :: best h = 5, with f score = 0.992685\n",
            "dataset №4 :: best h = 1, with f score = 0.995785\n",
            "dataset №5 :: best h = 3, with f score = 0.992329\n",
            "dataset №6 :: best h = 3, with f score = 0.996281\n",
            "dataset №7 :: best h = 2, with f score = 0.997990\n",
            "dataset №8 :: best h = 5, with f score = 0.812556\n",
            "dataset №9 :: best h = 4, with f score = 0.994007\n",
            "dataset №10 :: best h = 1, with f score = 0.999196\n",
            "dataset №11 :: best h = 7, with f score = 0.868610\n",
            "dataset №12 :: best h = 7, with f score = 0.624002\n",
            "dataset №13 :: best h = 6, with f score = 0.961454\n",
            "dataset №14 :: best h = 1, with f score = 1.000000\n",
            "dataset №15 :: best h = 1, with f score = 1.000000\n",
            "dataset №16 :: best h = 7, with f score = 0.817051\n",
            "dataset №17 :: best h = 5, with f score = 0.936440\n",
            "dataset №18 :: best h = 7, with f score = 0.815744\n",
            "dataset №19 :: best h = 7, with f score = 0.968986\n",
            "dataset №20 :: best h = 10, with f score = 0.788363\n"
          ],
          "name": "stdout"
        }
      ]
    },
    {
      "cell_type": "markdown",
      "metadata": {
        "id": "VoqufW9hcrdk"
      },
      "source": [
        "#### Forest"
      ]
    },
    {
      "cell_type": "code",
      "metadata": {
        "id": "pUVl33oLchIy",
        "outputId": "9222a69b-4b99-4cda-eb71-08885dae2871",
        "colab": {
          "base_uri": "https://localhost:8080/",
          "height": 34
        }
      },
      "source": [
        "for dataset_index in tqdm(datasets):\n",
        "    tree = DT(10)\n",
        "    random_objects_forest = RF(has_random_objects=True)\n",
        "    random_features_forest = RF(has_random_features=True)\n",
        "    \n",
        "    tree.fit(train_X_list[dataset_index], train_y_list[dataset_index])\n",
        "    random_objects_forest.fit(train_X_list[dataset_index], train_y_list[dataset_index], forest_size)\n",
        "    random_features_forest.fit(train_X_list[dataset_index], train_y_list[dataset_index], forest_size)\n",
        "    \n",
        "    tree_f_scores.append(test_classifier(tree, test_X_list[dataset_index], test_y_list[dataset_index]))    \n",
        "    random_objects_forest_f_scores.append(\n",
        "        test_classifier(random_objects_forest, test_X_list[dataset_index], test_y_list[dataset_index]))\n",
        "    random_features_forest_f_scores.append(\n",
        "        test_classifier(random_features_forest, test_X_list[dataset_index], test_y_list[dataset_index]))"
      ],
      "execution_count": 30,
      "outputs": [
        {
          "output_type": "stream",
          "text": [
            "100%|██████████| 21/21 [4:25:43<00:00, 759.21s/it]\n"
          ],
          "name": "stderr"
        }
      ]
    },
    {
      "cell_type": "markdown",
      "metadata": {
        "id": "m7HzF0JVbAEv"
      },
      "source": [
        "### Vuzualization"
      ]
    },
    {
      "cell_type": "code",
      "metadata": {
        "id": "WxP9VTN5gI3B"
      },
      "source": [
        "def draw_tree_res():\n",
        "    global heights\n",
        "    indices = sorted(range(len(heights)), key=lambda i: heights[i])\n",
        "    vars = [indices[0], indices[len(indices) // 2], indices[-1]]\n",
        "    titles = ['min optimal h', 'mid optimal h', 'max optimal h']\n",
        "    for i in range(3):\n",
        "        hs = range(1, 21)\n",
        "        train_f_scores, test_f_scores = [], []\n",
        "        dataset_index = vars[i]\n",
        "        title = titles[i]\n",
        "        for h in hs:\n",
        "            tree = DT(h)\n",
        "            tree.fit(train_X_list[dataset_index], train_y_list[dataset_index])\n",
        "            \n",
        "            train_f_scores.append(test_classifier(tree, train_X_list[dataset_index], train_y_list[dataset_index]))\n",
        "            test_f_scores.append(test_classifier(tree, test_X_list[dataset_index], test_y_list[dataset_index]))\n",
        "        \n",
        "        plt.title(title)\n",
        "        plt.plot(hs, train_f_scores, label='train dataset')\n",
        "        plt.plot(hs, test_f_scores, label='test dataset')\n",
        "        plt.xlabel('tree h')\n",
        "        plt.ylabel('f score')\n",
        "        plt.legend()\n",
        "        plt.show()"
      ],
      "execution_count": 43,
      "outputs": []
    },
    {
      "cell_type": "code",
      "metadata": {
        "id": "Po1Z_bDdbV7A"
      },
      "source": [
        "def draw_forest_res():\n",
        "    width = 0.2\n",
        "    plt.bar(datasets - width, tree_f_scores, label='One tree', width=width)\n",
        "    plt.bar(datasets, random_objects_forest_f_scores, label='Random objects', width=width)\n",
        "    plt.bar(datasets + width, random_features_forest_f_scores, label='Random features', width=width)\n",
        "    plt.xlabel('dataset')\n",
        "    plt.ylabel('f score')\n",
        "    plt.legend()\n",
        "    plt.show()"
      ],
      "execution_count": 32,
      "outputs": []
    },
    {
      "cell_type": "markdown",
      "metadata": {
        "id": "iPtMEC0ocyEO"
      },
      "source": [
        "## Results"
      ]
    },
    {
      "cell_type": "markdown",
      "metadata": {
        "id": "NCsVl--Zcz2P"
      },
      "source": [
        "### Tree"
      ]
    },
    {
      "cell_type": "code",
      "metadata": {
        "id": "nzszbT5rc1Kj",
        "outputId": "11c1914e-a45c-4e5c-832f-205730138783",
        "colab": {
          "base_uri": "https://localhost:8080/",
          "height": 851
        }
      },
      "source": [
        "draw_tree_res()"
      ],
      "execution_count": 44,
      "outputs": [
        {
          "output_type": "display_data",
          "data": {
            "image/png": "[encoded data removed]",
            "text/plain": [
              "<Figure size 432x288 with 1 Axes>"
            ]
          },
          "metadata": {
            "tags": [],
            "needs_background": "light"
          }
        },
        {
          "output_type": "display_data",
          "data": {
            "image/png": "[encoded data removed]",
            "text/plain": [
              "<Figure size 432x288 with 1 Axes>"
            ]
          },
          "metadata": {
            "tags": [],
            "needs_background": "light"
          }
        },
        {
          "output_type": "display_data",
          "data": {
            "image/png": "[encoded data removed]",
            "text/plain": [
              "<Figure size 432x288 with 1 Axes>"
            ]
          },
          "metadata": {
            "tags": [],
            "needs_background": "light"
          }
        }
      ]
    },
    {
      "cell_type": "markdown",
      "metadata": {
        "id": "Zjw0X8ucc1mZ"
      },
      "source": [
        "### Forest"
      ]
    },
    {
      "cell_type": "code",
      "metadata": {
        "id": "lTqe4YBbc3KX",
        "outputId": "2840491f-9693-4299-b0ce-df9c25a42c7c",
        "colab": {
          "base_uri": "https://localhost:8080/",
          "height": 279
        }
      },
      "source": [
        "draw_forest_res()"
      ],
      "execution_count": 33,
      "outputs": [
        {
          "output_type": "display_data",
          "data": {
            "image/png": "[encoded data removed]",
            "text/plain": [
              "<Figure size 432x288 with 1 Axes>"
            ]
          },
          "metadata": {
            "tags": [],
            "needs_background": "light"
          }
        }
      ]
    }
  ]
}